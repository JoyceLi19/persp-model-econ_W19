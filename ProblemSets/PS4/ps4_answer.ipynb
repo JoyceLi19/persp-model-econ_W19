{
 "cells": [
  {
   "cell_type": "code",
   "execution_count": null,
   "metadata": {},
   "outputs": [],
   "source": [
    "# Problem 1"
   ]
  },
  {
   "cell_type": "code",
   "execution_count": null,
   "metadata": {},
   "outputs": [],
   "source": [
    "#a"
   ]
  },
  {
   "cell_type": "code",
   "execution_count": 51,
   "metadata": {},
   "outputs": [
    {
     "data": {
      "text/html": [
       "<div>\n",
       "<style scoped>\n",
       "    .dataframe tbody tr th:only-of-type {\n",
       "        vertical-align: middle;\n",
       "    }\n",
       "\n",
       "    .dataframe tbody tr th {\n",
       "        vertical-align: top;\n",
       "    }\n",
       "\n",
       "    .dataframe thead th {\n",
       "        text-align: right;\n",
       "    }\n",
       "</style>\n",
       "<table border=\"1\" class=\"dataframe\">\n",
       "  <thead>\n",
       "    <tr style=\"text-align: right;\">\n",
       "      <th></th>\n",
       "      <th>Income</th>\n",
       "    </tr>\n",
       "  </thead>\n",
       "  <tbody>\n",
       "    <tr>\n",
       "      <th>count</th>\n",
       "      <td>200.000000</td>\n",
       "    </tr>\n",
       "    <tr>\n",
       "      <th>mean</th>\n",
       "      <td>87588.930769</td>\n",
       "    </tr>\n",
       "    <tr>\n",
       "      <th>std</th>\n",
       "      <td>18081.166388</td>\n",
       "    </tr>\n",
       "    <tr>\n",
       "      <th>min</th>\n",
       "      <td>49278.801938</td>\n",
       "    </tr>\n",
       "    <tr>\n",
       "      <th>25%</th>\n",
       "      <td>74088.607447</td>\n",
       "    </tr>\n",
       "    <tr>\n",
       "      <th>50%</th>\n",
       "      <td>85801.697366</td>\n",
       "    </tr>\n",
       "    <tr>\n",
       "      <th>75%</th>\n",
       "      <td>100102.725206</td>\n",
       "    </tr>\n",
       "    <tr>\n",
       "      <th>max</th>\n",
       "      <td>135865.026796</td>\n",
       "    </tr>\n",
       "  </tbody>\n",
       "</table>\n",
       "</div>"
      ],
      "text/plain": [
       "              Income\n",
       "count     200.000000\n",
       "mean    87588.930769\n",
       "std     18081.166388\n",
       "min     49278.801938\n",
       "25%     74088.607447\n",
       "50%     85801.697366\n",
       "75%    100102.725206\n",
       "max    135865.026796"
      ]
     },
     "execution_count": 51,
     "metadata": {},
     "output_type": "execute_result"
    }
   ],
   "source": [
    "import pandas as pd\n",
    "df = pd.read_csv(\"data/incomes.txt\", names = ['Income'])\n",
    "df.describe()"
   ]
  },
  {
   "cell_type": "code",
   "execution_count": 55,
   "metadata": {
    "scrolled": false
   },
   "outputs": [
    {
     "data": {
      "text/plain": [
       "Text(0,0.5,'Percentage of Income')"
      ]
     },
     "execution_count": 55,
     "metadata": {},
     "output_type": "execute_result"
    },
    {
     "data": {
      "image/png": "[encoded data removed]",
      "text/plain": [
       "<matplotlib.figure.Figure at 0xcd6a6b24a8>"
      ]
     },
     "metadata": {},
     "output_type": "display_data"
    }
   ],
   "source": [
    "import matplotlib.pyplot as plt\n",
    "bins = 30\n",
    "plt.hist(df['Income'], bins, normed = True, edgecolor = 'k')\n",
    "plt.title('Income Distribution of MACSS Graduates', fontsize = 10)\n",
    "plt.xlabel('Annual Income')\n",
    "plt.ylabel('Percentage of Income')"
   ]
  },
  {
   "cell_type": "code",
   "execution_count": null,
   "metadata": {},
   "outputs": [],
   "source": [
    "#b"
   ]
  },
  {
   "cell_type": "code",
   "execution_count": 19,
   "metadata": {},
   "outputs": [],
   "source": [
    "import scipy.stats as sts\n",
    "import numpy as np\n",
    "def trunc_norm_pdf(xvals, mu, sigma, cut_lb, cut_ub):\n",
    "    if cut_ub == 'None' and cut_lb == 'None':\n",
    "        prob_notcut = 1.0\n",
    "    elif cut_ub == 'None' and cut_lb != 'None':\n",
    "        prob_notcut = 1.0 - sts.lognorm.cdf(cut_lb, sigma, scale=np.exp(mu))\n",
    "    elif cut_ub != 'None' and cut_lb == 'None':\n",
    "        prob_notcut = sts.lognorm.cdf(cut_ub, sigma, scale=np.exp(mu))\n",
    "    elif cut_ub != 'None' and cut_lb != 'None':\n",
    "        prob_notcut = (sts.lognorm.cdf(cut_ub, sigma, scale=np.exp(mu)) -\n",
    "                       sts.lognorm.cdf(cut_lb, sigma, scale=np.exp(mu)))\n",
    "            \n",
    "    pdf_vals    = ((1/(xvals * sigma * np.sqrt(2 * np.pi)) *\n",
    "                    np.exp( - (np.log(xvals) - mu) ** 2 / (2 * sigma ** 2))) /\n",
    "                    prob_notcut)\n",
    "    \n",
    "    return pdf_vals"
   ]
  },
  {
   "cell_type": "code",
   "execution_count": 38,
   "metadata": {},
   "outputs": [
    {
     "data": {
      "text/plain": [
       "<matplotlib.legend.Legend at 0xcd69593cc0>"
      ]
     },
     "execution_count": 38,
     "metadata": {},
     "output_type": "execute_result"
    },
    {
     "data": {
      "image/png": "[encoded data removed]",
      "text/plain": [
       "<matplotlib.figure.Figure at 0xcd695937b8>"
      ]
     },
     "metadata": {},
     "output_type": "display_data"
    }
   ],
   "source": [
    "dist_pts = np.linspace(1, 150000)\n",
    "mu_1 = 11.0\n",
    "sig_1 = 0.5\n",
    "plt.plot(dist_pts, trunc_norm_pdf(dist_pts, mu_1, sig_1, 0, 150000),\n",
    "         linewidth=2, color='r', label='$\\mu$=11,$\\sigma$=0.5')\n",
    "plt.legend(loc='upper left')"
   ]
  },
  {
   "cell_type": "code",
   "execution_count": 22,
   "metadata": {},
   "outputs": [
    {
     "name": "stdout",
     "output_type": "stream",
     "text": [
      "Log-likelihood:  -2379.120591931827\n"
     ]
    }
   ],
   "source": [
    "def log_lik_truncnorm(xvals, mu, sigma, cut_lb, cut_ub):\n",
    "    pdf_vals = trunc_norm_pdf(xvals, mu, sigma, cut_lb, cut_ub)\n",
    "    ln_pdf_vals = np.log(pdf_vals)\n",
    "    log_lik_val = ln_pdf_vals.sum()\n",
    "    \n",
    "    return log_lik_val\n",
    "\n",
    "print('Log-likelihood: ', log_lik_truncnorm(df['Income'], mu_1, sig_1, 0, 150000))"
   ]
  },
  {
   "cell_type": "code",
   "execution_count": null,
   "metadata": {},
   "outputs": [],
   "source": [
    "#c"
   ]
  },
  {
   "cell_type": "code",
   "execution_count": 23,
   "metadata": {},
   "outputs": [],
   "source": [
    "def crit(params, *args):\n",
    "    mu, sigma = params\n",
    "    xvals, cut_lb, cut_ub = args\n",
    "    log_lik_val = log_lik_truncnorm(xvals, mu, abs(sigma), cut_lb, cut_ub)\n",
    "    neg_log_lik_val = -log_lik_val\n",
    "    \n",
    "    return neg_log_lik_val"
   ]
  },
  {
   "cell_type": "code",
   "execution_count": 25,
   "metadata": {},
   "outputs": [
    {
     "name": "stdout",
     "output_type": "stream",
     "text": [
      "mu_MLE = 11.361699965967007  sig_MLE = 0.21174326386681536\n",
      "Maximize Log Likelihood = -2240.934337511636\n"
     ]
    }
   ],
   "source": [
    "import scipy.optimize as opt\n",
    "\n",
    "mu_init = 11\n",
    "sig_init = 0.5\n",
    "params_init = np.array([mu_init, sig_init])\n",
    "mle_args = (df['Income'], 0, 150000)\n",
    "results_uncstr = opt.minimize(crit, params_init, args=(mle_args))\n",
    "mu_MLE, sig_MLE = results_uncstr.x\n",
    "print('mu_MLE =', mu_MLE, ' sig_MLE =', sig_MLE)\n",
    "print(\"Maximum Log Likelihood =\", log_lik_truncnorm(df['Income'], mu_MLE, sig_MLE, 0, 150000))"
   ]
  },
  {
   "cell_type": "code",
   "execution_count": 28,
   "metadata": {},
   "outputs": [
    {
     "data": {
      "text/plain": [
       "(0, 150000)"
      ]
     },
     "execution_count": 28,
     "metadata": {},
     "output_type": "execute_result"
    },
    {
     "data": {
      "image/png": "[encoded data removed]",
      "text/plain": [
       "<matplotlib.figure.Figure at 0xcd691db6d8>"
      ]
     },
     "metadata": {},
     "output_type": "display_data"
    }
   ],
   "source": [
    "plt.hist(df['Income'], bins, normed = True, edgecolor = 'k')\n",
    "\n",
    "plt.plot(dist_pts, trunc_norm_pdf(dist_pts, mu_1, sig_1, 0, 150000), \n",
    "         linewidth = 2, color = 'g', label = '$\\mu$=11, $\\sigma$=0.5')\n",
    "plt.legend(loc = 'upper left')\n",
    "\n",
    "plt.plot(dist_pts, trunc_norm_pdf(dist_pts, mu_MLE, sig_MLE, 0, 150000), \n",
    "         linewidth = 2, color = 'r', label = '$\\mu$=11.36, $\\sigma$=0.21')\n",
    "plt.legend(loc = 'upper left')\n",
    "\n",
    "plt.title('Income Distribution of MACSS Graduates', fontsize = 10)\n",
    "plt.xlabel('Annual Income')\n",
    "plt.ylabel('Percentage of Income')\n",
    "plt.xlim([0, 150000])"
   ]
  },
  {
   "cell_type": "code",
   "execution_count": 43,
   "metadata": {},
   "outputs": [
    {
     "name": "stdout",
     "output_type": "stream",
     "text": [
      "VCV(MLE) =  [[ 2.05516896e-04 -1.58272274e-05]\n",
      " [-1.58272274e-05  9.92889787e-05]]\n",
      "Standard error for mu estimate =  0.014335860496126812\n",
      "Standard error for sigma estimate =  0.009964385515514781\n",
      "mu percent 0.001261770733170973\n",
      "sig percent 0.0470588076028822\n"
     ]
    }
   ],
   "source": [
    "vcv_mle = results_uncstr.hess_inv\n",
    "\n",
    "stderr_mu_mle = np.sqrt(vcv_mle[0,0])\n",
    "stderr_sig_mle = np.sqrt(vcv_mle[1,1])\n",
    "print('VCV(MLE) = ', vcv_mle)\n",
    "print('Standard error for mu estimate = ', stderr_mu_mle)\n",
    "print('Standard error for sigma estimate = ', stderr_sig_mle)\n",
    "print('mu percent', stderr_mu_mle/mu_MLE)\n",
    "print('sig percent', stderr_sig_mle/sig_MLE)"
   ]
  },
  {
   "cell_type": "code",
   "execution_count": null,
   "metadata": {},
   "outputs": [],
   "source": [
    "#d"
   ]
  },
  {
   "cell_type": "code",
   "execution_count": 30,
   "metadata": {},
   "outputs": [
    {
     "name": "stdout",
     "output_type": "stream",
     "text": [
      "hypothesis value log likelihood -2379.120591931827\n",
      "MLE log likelihood -2240.934337511636\n",
      "likelihood ratio value 276.3725088403826\n",
      "chi squared of H0 with 2 degrees of freedom p-value =  0.0\n"
     ]
    }
   ],
   "source": [
    "log_lik_h0 = log_lik_truncnorm(df['Income'], mu_1, sig_1, 0, 150000)\n",
    "print('hypothesis value log likelihood', log_lik_h0)\n",
    "log_lik_mle = log_lik_truncnorm(df['Income'], mu_MLE, sig_MLE, 0, 150000)\n",
    "print('MLE log likelihood', log_lik_mle)\n",
    "LR_val = 2 * (log_lik_mle - log_lik_h0)\n",
    "print('likelihood ratio value', LR_val)\n",
    "pval_h0 = 1.0 - sts.chi2.cdf(LR_val, 2)\n",
    "print('chi squared of H0 with 2 degrees of freedom p-value = ', pval_h0)"
   ]
  },
  {
   "cell_type": "code",
   "execution_count": 31,
   "metadata": {},
   "outputs": [
    {
     "name": "stdout",
     "output_type": "stream",
     "text": [
      "We should reject the null hypothesis because p-value is very small.\n"
     ]
    }
   ],
   "source": [
    "print('We should reject the null hypothesis because p-value is very small.')"
   ]
  },
  {
   "cell_type": "code",
   "execution_count": null,
   "metadata": {},
   "outputs": [],
   "source": [
    "#e"
   ]
  },
  {
   "cell_type": "code",
   "execution_count": 33,
   "metadata": {},
   "outputs": [
    {
     "name": "stdout",
     "output_type": "stream",
     "text": [
      "The probability of earning more than $100,000 is  0.23755400684543593\n"
     ]
    }
   ],
   "source": [
    "p1 = 1-sts.lognorm.cdf(100000, sig_MLE, scale=np.exp(mu_MLE))\n",
    "print('The probability of earning more than $100,000 is ', p1)"
   ]
  },
  {
   "cell_type": "code",
   "execution_count": 34,
   "metadata": {},
   "outputs": [
    {
     "name": "stdout",
     "output_type": "stream",
     "text": [
      "The probability of earning less than $75,000 is  0.2596439369860366\n"
     ]
    }
   ],
   "source": [
    "p2 = sts.lognorm.cdf(75000, sig_MLE, scale=np.exp(mu_MLE))\n",
    "print('The probability of earning less than $75,000 is ', p2)"
   ]
  },
  {
   "cell_type": "code",
   "execution_count": null,
   "metadata": {},
   "outputs": [],
   "source": [
    "# Problem 2"
   ]
  },
  {
   "cell_type": "code",
   "execution_count": null,
   "metadata": {},
   "outputs": [],
   "source": [
    "#a"
   ]
  },
  {
   "cell_type": "code",
   "execution_count": 57,
   "metadata": {
    "scrolled": true
   },
   "outputs": [
    {
     "data": {
      "text/html": [
       "<div>\n",
       "<style scoped>\n",
       "    .dataframe tbody tr th:only-of-type {\n",
       "        vertical-align: middle;\n",
       "    }\n",
       "\n",
       "    .dataframe tbody tr th {\n",
       "        vertical-align: top;\n",
       "    }\n",
       "\n",
       "    .dataframe thead th {\n",
       "        text-align: right;\n",
       "    }\n",
       "</style>\n",
       "<table border=\"1\" class=\"dataframe\">\n",
       "  <thead>\n",
       "    <tr style=\"text-align: right;\">\n",
       "      <th></th>\n",
       "      <th>sick</th>\n",
       "      <th>age</th>\n",
       "      <th>children</th>\n",
       "      <th>avgtemp_winter</th>\n",
       "    </tr>\n",
       "  </thead>\n",
       "  <tbody>\n",
       "    <tr>\n",
       "      <th>count</th>\n",
       "      <td>200.000000</td>\n",
       "      <td>200.000000</td>\n",
       "      <td>200.000000</td>\n",
       "      <td>200.000000</td>\n",
       "    </tr>\n",
       "    <tr>\n",
       "      <th>mean</th>\n",
       "      <td>1.008600</td>\n",
       "      <td>40.683850</td>\n",
       "      <td>1.674950</td>\n",
       "      <td>44.041250</td>\n",
       "    </tr>\n",
       "    <tr>\n",
       "      <th>std</th>\n",
       "      <td>0.504222</td>\n",
       "      <td>11.268686</td>\n",
       "      <td>0.969761</td>\n",
       "      <td>11.101977</td>\n",
       "    </tr>\n",
       "    <tr>\n",
       "      <th>min</th>\n",
       "      <td>0.040000</td>\n",
       "      <td>12.810000</td>\n",
       "      <td>0.000000</td>\n",
       "      <td>16.500000</td>\n",
       "    </tr>\n",
       "    <tr>\n",
       "      <th>25%</th>\n",
       "      <td>0.650000</td>\n",
       "      <td>33.967500</td>\n",
       "      <td>0.970000</td>\n",
       "      <td>36.112500</td>\n",
       "    </tr>\n",
       "    <tr>\n",
       "      <th>50%</th>\n",
       "      <td>0.960000</td>\n",
       "      <td>41.015000</td>\n",
       "      <td>1.560000</td>\n",
       "      <td>43.300000</td>\n",
       "    </tr>\n",
       "    <tr>\n",
       "      <th>75%</th>\n",
       "      <td>1.322500</td>\n",
       "      <td>47.750000</td>\n",
       "      <td>2.322500</td>\n",
       "      <td>52.172500</td>\n",
       "    </tr>\n",
       "    <tr>\n",
       "      <th>max</th>\n",
       "      <td>2.800000</td>\n",
       "      <td>74.890000</td>\n",
       "      <td>4.960000</td>\n",
       "      <td>68.600000</td>\n",
       "    </tr>\n",
       "  </tbody>\n",
       "</table>\n",
       "</div>"
      ],
      "text/plain": [
       "             sick         age    children  avgtemp_winter\n",
       "count  200.000000  200.000000  200.000000      200.000000\n",
       "mean     1.008600   40.683850    1.674950       44.041250\n",
       "std      0.504222   11.268686    0.969761       11.101977\n",
       "min      0.040000   12.810000    0.000000       16.500000\n",
       "25%      0.650000   33.967500    0.970000       36.112500\n",
       "50%      0.960000   41.015000    1.560000       43.300000\n",
       "75%      1.322500   47.750000    2.322500       52.172500\n",
       "max      2.800000   74.890000    4.960000       68.600000"
      ]
     },
     "execution_count": 57,
     "metadata": {},
     "output_type": "execute_result"
    }
   ],
   "source": [
    "df = pd.read_csv(\"data/sick.txt\").astype('float64')\n",
    "df.describe()"
   ]
  },
  {
   "cell_type": "code",
   "execution_count": 67,
   "metadata": {},
   "outputs": [],
   "source": [
    "def log_lik_normal(y, b0, b1, b2, b3, x1, x2, x3, sigma):\n",
    "    error = y - b0 - b1 * x1 - b2 * x2 - b3 * x3\n",
    "    sigma = abs(sigma)\n",
    "    pdf_values = (1 / (sigma * np.sqrt(2 * np.pi))) * np.exp(-(error) ** 2 / (2 * sigma ** 2)) \n",
    "    log_pdf_value = np.log(pdf_values)\n",
    "    log_lik_value = log_pdf_value.sum()\n",
    "    return log_lik_value"
   ]
  },
  {
   "cell_type": "code",
   "execution_count": 68,
   "metadata": {},
   "outputs": [],
   "source": [
    "def crit2(params, *args):\n",
    "    b0, b1, b2, b3, sigma = params\n",
    "    y, x1, x2, x3 = args\n",
    "    log_lik_val = log_lik_normal(y, b0, b1, b2, b3, x1, x2, x3, sigma)\n",
    "    neg_log_lik_val = -log_lik_val\n",
    "    \n",
    "    return neg_log_lik_val"
   ]
  },
  {
   "cell_type": "code",
   "execution_count": 71,
   "metadata": {},
   "outputs": [
    {
     "name": "stderr",
     "output_type": "stream",
     "text": [
      "C:\\Users\\lenovo\\Anaconda3\\lib\\site-packages\\ipykernel_launcher.py:5: RuntimeWarning: divide by zero encountered in log\n",
      "  \"\"\"\n",
      "C:\\Users\\lenovo\\Anaconda3\\lib\\site-packages\\scipy\\optimize\\optimize.py:643: RuntimeWarning: invalid value encountered in double_scalars\n",
      "  grad[k] = (f(*((xk + d,) + args)) - f0) / d[k]\n",
      "C:\\Users\\lenovo\\Anaconda3\\lib\\site-packages\\ipykernel_launcher.py:5: RuntimeWarning: divide by zero encountered in log\n",
      "  \"\"\"\n",
      "C:\\Users\\lenovo\\Anaconda3\\lib\\site-packages\\ipykernel_launcher.py:5: RuntimeWarning: divide by zero encountered in log\n",
      "  \"\"\"\n",
      "C:\\Users\\lenovo\\Anaconda3\\lib\\site-packages\\scipy\\optimize\\optimize.py:643: RuntimeWarning: invalid value encountered in double_scalars\n",
      "  grad[k] = (f(*((xk + d,) + args)) - f0) / d[k]\n",
      "C:\\Users\\lenovo\\Anaconda3\\lib\\site-packages\\ipykernel_launcher.py:5: RuntimeWarning: divide by zero encountered in log\n",
      "  \"\"\"\n",
      "C:\\Users\\lenovo\\Anaconda3\\lib\\site-packages\\ipykernel_launcher.py:5: RuntimeWarning: divide by zero encountered in log\n",
      "  \"\"\"\n",
      "C:\\Users\\lenovo\\Anaconda3\\lib\\site-packages\\scipy\\optimize\\optimize.py:643: RuntimeWarning: invalid value encountered in double_scalars\n",
      "  grad[k] = (f(*((xk + d,) + args)) - f0) / d[k]\n"
     ]
    },
    {
     "name": "stdout",
     "output_type": "stream",
     "text": [
      "beta 0= 0.2516463835883786\n",
      "beta 1= 0.012933350042074635\n",
      "beta 2= 0.40050204833336356\n",
      "beta 3= -0.00999167303390712\n",
      "sigma= 0.0030176821760574952\n",
      "Value of the log likelihood function is 876.8650462886835\n"
     ]
    }
   ],
   "source": [
    "import scipy.optimize as opt\n",
    "b0_i, b1_i, b2_i, b3_i, sig_i = (0,0,0,0,0.5)\n",
    "y=df['sick']\n",
    "x1, x2, x3 = df['age'], df['children'], df['avgtemp_winter']\n",
    "params_init = np.array([b0_i, b1_i, b2_i, b3_i, sig_i])\n",
    "results = opt.minimize(crit2, params_init,(y, x1, x2, x3))\n",
    "b0_MLE = results.x[0]\n",
    "b1_MLE = results.x[1]\n",
    "b2_MLE = results.x[2]\n",
    "b3_MLE = results.x[3]\n",
    "sig_MLE = results.x[4]\n",
    "print('beta 0=', b0_MLE)\n",
    "print('beta 1=', b1_MLE)\n",
    "print('beta 2=', b2_MLE)\n",
    "print('beta 3=', b3_MLE)\n",
    "print('sigma=', sig_MLE)\n",
    "print(\"Value of the log likelihood function is\",-results.fun)"
   ]
  },
  {
   "cell_type": "code",
   "execution_count": 72,
   "metadata": {},
   "outputs": [
    {
     "name": "stdout",
     "output_type": "stream",
     "text": [
      "VCV(MLE) =  [[ 5.33696389e-07 -3.22691329e-08  3.01610380e-07  8.25275679e-09\n",
      "   3.22376633e-08]\n",
      " [-3.22691329e-08  2.48832826e-09 -1.87360905e-08 -9.56493033e-10\n",
      "  -1.79190704e-09]\n",
      " [ 3.01610380e-07 -1.87360905e-08  1.75149148e-07  4.92967898e-09\n",
      "   1.86031934e-08]\n",
      " [ 8.25275679e-09 -9.56493033e-10  4.92967898e-09  5.47000117e-10\n",
      "   4.04497374e-10]\n",
      " [ 3.22376633e-08 -1.79190704e-09  1.86031934e-08  4.04497374e-10\n",
      "   2.54440972e-08]]\n"
     ]
    }
   ],
   "source": [
    "vcv_mle = results.hess_inv\n",
    "print('VCV(MLE) = ', vcv_mle)"
   ]
  },
  {
   "cell_type": "code",
   "execution_count": null,
   "metadata": {},
   "outputs": [],
   "source": [
    "#b"
   ]
  },
  {
   "cell_type": "code",
   "execution_count": 74,
   "metadata": {},
   "outputs": [
    {
     "name": "stdout",
     "output_type": "stream",
     "text": [
      "Hypothesis value log likelihood is -2253.700688042125\n",
      "MLE log likelihood is 876.8650462886835\n",
      "Likelihood ratio value is 6261.131468661617\n",
      "Chi squared of H0 with 5 degrees of freedom p-value =  0.0\n"
     ]
    }
   ],
   "source": [
    "b0_new, b1_new, b2_new, b3_new, sigma_new = 1, 0, 0, 0, 0.1\n",
    "log_lik_h0 = log_lik_normal(y, b0_new, b1_new, b2_new, b3_new, x1, x2, x3, sigma_new)\n",
    "print('Hypothesis value log likelihood is', log_lik_h0)\n",
    "print('MLE log likelihood is', -results.fun)\n",
    "LR_val = 2 * ((-results.fun)-log_lik_h0)\n",
    "print('Likelihood ratio value is', LR_val)\n",
    "pval_h0 = 1.0 - sts.chi2.cdf(LR_val, 5)\n",
    "print('Chi squared of H0 with 5 degrees of freedom p-value = ', pval_h0)"
   ]
  },
  {
   "cell_type": "code",
   "execution_count": 75,
   "metadata": {},
   "outputs": [
    {
     "name": "stdout",
     "output_type": "stream",
     "text": [
      "We should reject the null hypothese. Age, number of children, and average winter temperature are not likely to have no effect on the number of sick days.\n"
     ]
    }
   ],
   "source": [
    "print('We should reject the null hypothese. Age, number of children, and average winter temperature are not likely to have no effect on the number of sick days.')"
   ]
  },
  {
   "cell_type": "code",
   "execution_count": null,
   "metadata": {},
   "outputs": [],
   "source": []
  }
 ],
 "metadata": {
  "kernelspec": {
   "display_name": "Python 3",
   "language": "python",
   "name": "python3"
  },
  "language_info": {
   "codemirror_mode": {
    "name": "ipython",
    "version": 3
   },
   "file_extension": ".py",
   "mimetype": "text/x-python",
   "name": "python",
   "nbconvert_exporter": "python",
   "pygments_lexer": "ipython3",
   "version": "3.6.4"
  }
 },
 "nbformat": 4,
 "nbformat_minor": 2
}
