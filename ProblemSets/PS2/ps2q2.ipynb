{
 "cells": [
  {
   "cell_type": "code",
   "execution_count": null,
   "metadata": {},
   "outputs": [],
   "source": [
    "#2.1"
   ]
  },
  {
   "cell_type": "code",
   "execution_count": 1,
   "metadata": {},
   "outputs": [
    {
     "name": "stdout",
     "output_type": "stream",
     "text": [
      "Error of Midpoint method 0.05474651733129576\n",
      "Error of Trapezoid method 0.10949316265941889\n",
      "Error of Simpson method 4.266621544957161e-08\n"
     ]
    }
   ],
   "source": [
    "import numpy as np\n",
    "def gx(x):\n",
    "    g = 0.1 * (x ** 4) - 1.5 * (x ** 3) + 0.53 * (x ** 2) + 2 * x + 1\n",
    "    return g\n",
    "def integral_gx(gx, a, b, N, method):\n",
    "    bin = np.linspace(a, b, N + 1)\n",
    "    if method == 'midpoint':\n",
    "        width = (b - a) / N\n",
    "        height = sum(gx((bin[1:] + bin[:-1]) / 2))\n",
    "    elif method == 'trapezoid':\n",
    "        width = (b - a) / (2 * N)\n",
    "        height = gx(bin[0]) + gx(bin[-1]) + 2 * sum(gx(bin[1:-1]))\n",
    "    elif method == 'Simpsons':\n",
    "        bin = np.linspace(a ,b, 2 * N + 1)\n",
    "        width = (b - a) / (6 * N)\n",
    "        height = gx(bin[0]) + 4 * sum(gx(bin[1:-1][::2])) + 2 * sum(gx(bin[1:-1][1::2])) + gx(bin[-1])\n",
    "    \n",
    "    integral = height * width\n",
    "    return integral\n",
    "\n",
    "midpoint = integral_gx(gx, -10, 10, 500, 'midpoint')\n",
    "trapezoid = integral_gx(gx, -10, 10, 500, 'trapezoid')\n",
    "simpsons = integral_gx(gx, -10, 10, 500, 'Simpsons')\n",
    "print('Error of Midpoint method', abs(midpoint - (4373 + 1 / 3)))\n",
    "print('Error of Trapezoid method', abs(trapezoid - (4373 + 1 / 3)))\n",
    "print('Error of Simpson method', abs(simpsons - (4373 + 1 / 3)))"
   ]
  },
  {
   "cell_type": "code",
   "execution_count": null,
   "metadata": {},
   "outputs": [],
   "source": [
    "#2.2"
   ]
  },
  {
   "cell_type": "code",
   "execution_count": 2,
   "metadata": {},
   "outputs": [
    {
     "data": {
      "text/html": [
       "<div>\n",
       "<style scoped>\n",
       "    .dataframe tbody tr th:only-of-type {\n",
       "        vertical-align: middle;\n",
       "    }\n",
       "\n",
       "    .dataframe tbody tr th {\n",
       "        vertical-align: top;\n",
       "    }\n",
       "\n",
       "    .dataframe thead th {\n",
       "        text-align: right;\n",
       "    }\n",
       "</style>\n",
       "<table border=\"1\" class=\"dataframe\">\n",
       "  <thead>\n",
       "    <tr style=\"text-align: right;\">\n",
       "      <th></th>\n",
       "      <th>Nodes</th>\n",
       "      <th>Weights</th>\n",
       "    </tr>\n",
       "  </thead>\n",
       "  <tbody>\n",
       "    <tr>\n",
       "      <th>0</th>\n",
       "      <td>-3.0</td>\n",
       "      <td>0.003467</td>\n",
       "    </tr>\n",
       "    <tr>\n",
       "      <th>1</th>\n",
       "      <td>-2.4</td>\n",
       "      <td>0.014397</td>\n",
       "    </tr>\n",
       "    <tr>\n",
       "      <th>2</th>\n",
       "      <td>-1.8</td>\n",
       "      <td>0.048943</td>\n",
       "    </tr>\n",
       "    <tr>\n",
       "      <th>3</th>\n",
       "      <td>-1.2</td>\n",
       "      <td>0.117253</td>\n",
       "    </tr>\n",
       "    <tr>\n",
       "      <th>4</th>\n",
       "      <td>-0.6</td>\n",
       "      <td>0.198028</td>\n",
       "    </tr>\n",
       "    <tr>\n",
       "      <th>5</th>\n",
       "      <td>0.0</td>\n",
       "      <td>0.235823</td>\n",
       "    </tr>\n",
       "    <tr>\n",
       "      <th>6</th>\n",
       "      <td>0.6</td>\n",
       "      <td>0.198028</td>\n",
       "    </tr>\n",
       "    <tr>\n",
       "      <th>7</th>\n",
       "      <td>1.2</td>\n",
       "      <td>0.117253</td>\n",
       "    </tr>\n",
       "    <tr>\n",
       "      <th>8</th>\n",
       "      <td>1.8</td>\n",
       "      <td>0.048943</td>\n",
       "    </tr>\n",
       "    <tr>\n",
       "      <th>9</th>\n",
       "      <td>2.4</td>\n",
       "      <td>0.014397</td>\n",
       "    </tr>\n",
       "    <tr>\n",
       "      <th>10</th>\n",
       "      <td>3.0</td>\n",
       "      <td>0.003467</td>\n",
       "    </tr>\n",
       "  </tbody>\n",
       "</table>\n",
       "</div>"
      ],
      "text/plain": [
       "    Nodes   Weights\n",
       "0    -3.0  0.003467\n",
       "1    -2.4  0.014397\n",
       "2    -1.8  0.048943\n",
       "3    -1.2  0.117253\n",
       "4    -0.6  0.198028\n",
       "5     0.0  0.235823\n",
       "6     0.6  0.198028\n",
       "7     1.2  0.117253\n",
       "8     1.8  0.048943\n",
       "9     2.4  0.014397\n",
       "10    3.0  0.003467"
      ]
     },
     "execution_count": 2,
     "metadata": {},
     "output_type": "execute_result"
    }
   ],
   "source": [
    "import scipy.stats as sts\n",
    "import pandas as pd\n",
    "def normal_dist(mean, sigma, k, N):\n",
    "    a = mean - sigma * k\n",
    "    b = mean + sigma * k\n",
    "    nodes = np.linspace(a, b, N)\n",
    "    midpoint = (nodes[1:] + nodes[:-1]) / 2\n",
    "    w1 = sts.norm.cdf(midpoint[0], mean, sigma)\n",
    "    w2 = sts.norm.cdf(midpoint, mean, sigma)\n",
    "    w2 = np.diff(w2).tolist()\n",
    "    w3 = 1 - sts.norm.cdf(midpoint[-1], mean, sigma)\n",
    "    weights = [w1] + w2 + [w3]\n",
    "    nodes = nodes.tolist()\n",
    "    result = {'Nodes':nodes, 'Weights':weights}\n",
    "    df = pd.DataFrame(result)\n",
    "    return df\n",
    "\n",
    "normal_dist(0, 1, 3, 11)"
   ]
  },
  {
   "cell_type": "code",
   "execution_count": null,
   "metadata": {},
   "outputs": [],
   "source": [
    "#2.3"
   ]
  },
  {
   "cell_type": "code",
   "execution_count": 3,
   "metadata": {},
   "outputs": [
    {
     "data": {
      "text/html": [
       "<div>\n",
       "<style scoped>\n",
       "    .dataframe tbody tr th:only-of-type {\n",
       "        vertical-align: middle;\n",
       "    }\n",
       "\n",
       "    .dataframe tbody tr th {\n",
       "        vertical-align: top;\n",
       "    }\n",
       "\n",
       "    .dataframe thead th {\n",
       "        text-align: right;\n",
       "    }\n",
       "</style>\n",
       "<table border=\"1\" class=\"dataframe\">\n",
       "  <thead>\n",
       "    <tr style=\"text-align: right;\">\n",
       "      <th></th>\n",
       "      <th>Nodes</th>\n",
       "      <th>Weights</th>\n",
       "    </tr>\n",
       "  </thead>\n",
       "  <tbody>\n",
       "    <tr>\n",
       "      <th>0</th>\n",
       "      <td>0.049787</td>\n",
       "      <td>0.003467</td>\n",
       "    </tr>\n",
       "    <tr>\n",
       "      <th>1</th>\n",
       "      <td>0.090718</td>\n",
       "      <td>0.014397</td>\n",
       "    </tr>\n",
       "    <tr>\n",
       "      <th>2</th>\n",
       "      <td>0.165299</td>\n",
       "      <td>0.048943</td>\n",
       "    </tr>\n",
       "    <tr>\n",
       "      <th>3</th>\n",
       "      <td>0.301194</td>\n",
       "      <td>0.117253</td>\n",
       "    </tr>\n",
       "    <tr>\n",
       "      <th>4</th>\n",
       "      <td>0.548812</td>\n",
       "      <td>0.198028</td>\n",
       "    </tr>\n",
       "    <tr>\n",
       "      <th>5</th>\n",
       "      <td>1.000000</td>\n",
       "      <td>0.235823</td>\n",
       "    </tr>\n",
       "    <tr>\n",
       "      <th>6</th>\n",
       "      <td>1.822119</td>\n",
       "      <td>0.198028</td>\n",
       "    </tr>\n",
       "    <tr>\n",
       "      <th>7</th>\n",
       "      <td>3.320117</td>\n",
       "      <td>0.117253</td>\n",
       "    </tr>\n",
       "    <tr>\n",
       "      <th>8</th>\n",
       "      <td>6.049647</td>\n",
       "      <td>0.048943</td>\n",
       "    </tr>\n",
       "    <tr>\n",
       "      <th>9</th>\n",
       "      <td>11.023176</td>\n",
       "      <td>0.014397</td>\n",
       "    </tr>\n",
       "    <tr>\n",
       "      <th>10</th>\n",
       "      <td>20.085537</td>\n",
       "      <td>0.003467</td>\n",
       "    </tr>\n",
       "  </tbody>\n",
       "</table>\n",
       "</div>"
      ],
      "text/plain": [
       "        Nodes   Weights\n",
       "0    0.049787  0.003467\n",
       "1    0.090718  0.014397\n",
       "2    0.165299  0.048943\n",
       "3    0.301194  0.117253\n",
       "4    0.548812  0.198028\n",
       "5    1.000000  0.235823\n",
       "6    1.822119  0.198028\n",
       "7    3.320117  0.117253\n",
       "8    6.049647  0.048943\n",
       "9   11.023176  0.014397\n",
       "10  20.085537  0.003467"
      ]
     },
     "execution_count": 3,
     "metadata": {},
     "output_type": "execute_result"
    }
   ],
   "source": [
    "def lognormal_dist(mean, sigma, k, N):\n",
    "    function = normal_dist(mean, sigma, k, N)\n",
    "    weight = function.Weights\n",
    "    node = function.Nodes\n",
    "    node = np.exp(node).tolist()\n",
    "    result = {'Nodes':node, 'Weights':weight}\n",
    "    df = pd.DataFrame(result)\n",
    "    return df\n",
    "\n",
    "lognormal_dist(0, 1, 3, 11)"
   ]
  },
  {
   "cell_type": "code",
   "execution_count": null,
   "metadata": {},
   "outputs": [],
   "source": [
    "#2.4"
   ]
  },
  {
   "cell_type": "code",
   "execution_count": 4,
   "metadata": {},
   "outputs": [
    {
     "name": "stdout",
     "output_type": "stream",
     "text": [
      "The difference is 17.05766214232426\n"
     ]
    }
   ],
   "source": [
    "f_lognorm = lognormal_dist(10.5, 0.8, 3, 20)\n",
    "approx_income = sum(f_lognorm.Nodes * f_lognorm.Weights)\n",
    "diff = abs(approx_income - np.exp(10.5 + (0.8 ** 2) / 2))\n",
    "print('The difference is', diff)"
   ]
  },
  {
   "cell_type": "code",
   "execution_count": null,
   "metadata": {},
   "outputs": [],
   "source": [
    "#3.1"
   ]
  },
  {
   "cell_type": "code",
   "execution_count": 5,
   "metadata": {},
   "outputs": [
    {
     "name": "stdout",
     "output_type": "stream",
     "text": [
      "Gaussian approximation is 4373.333332841357\n",
      "Gaussian quadrature absolute error is 4.919756975141354e-07\n",
      "The absolute error of Gaussian approximation is smaller\n"
     ]
    }
   ],
   "source": [
    "from scipy import optimize\n",
    "def p_h(x):\n",
    "    return [x[0] + x[1] +x[2] -2, \n",
    "            x[0] * x[3] + x[1] * x[4] + x[2] * x[5] - 0,\n",
    "           x[0] * x[3] ** 2 + x[1] * x[4] ** 2 + x[2] * x[5] ** 2 - 2/3,\n",
    "           x[0] * x[3] ** 3 + x[1] * x[4] ** 3 + x[2] * x[5] ** 3 - 0,\n",
    "           x[0] * x[3] ** 4 + x[1] * x[4] ** 4 + x[2] * x[5] ** 4 - 2/5,\n",
    "           x[0] * x[3] ** 5 + x[1] * x[4] ** 5 + x[2] * x[5] ** 5 - 0]  \n",
    "f = optimize.root(p_h, [0, 0, 0, 0, 0, 0])\n",
    "h = f.x\n",
    "a = -10\n",
    "b = 10\n",
    "c = (b - a) / 2\n",
    "d = (b + a) / 2\n",
    "approx_gaussian = c * (h[0] * gx(c * h[3] + d) + h[1] * gx(c * h[4] + d) + h[2] * gx(c * h[5] + d))\n",
    "error_gaussian = abs(approx_gaussian - (4373 + 1 / 3))\n",
    "print('Gaussian approximation is', approx_gaussian)\n",
    "print('Gaussian quadrature absolute error is', error_gaussian)\n",
    "print('The absolute error of Gaussian approximation is smaller')"
   ]
  },
  {
   "cell_type": "code",
   "execution_count": null,
   "metadata": {},
   "outputs": [],
   "source": [
    "#3.2"
   ]
  },
  {
   "cell_type": "code",
   "execution_count": 6,
   "metadata": {},
   "outputs": [
    {
     "name": "stdout",
     "output_type": "stream",
     "text": [
      "Approximation is 4373.333333333334\n",
      "The difference is 9.094947017729282e-13\n"
     ]
    }
   ],
   "source": [
    "from scipy import integrate\n",
    "approx_g = integrate.quad(gx, -10, 10)\n",
    "print('Approximation is', approx_g[0])\n",
    "print('The difference is', abs(approx_g[0] - (4373 + 1 / 3)))"
   ]
  },
  {
   "cell_type": "code",
   "execution_count": null,
   "metadata": {},
   "outputs": [],
   "source": [
    "#4.1"
   ]
  },
  {
   "cell_type": "code",
   "execution_count": 7,
   "metadata": {},
   "outputs": [],
   "source": [
    "def circle(x, y):\n",
    "    if x ** 2 + y ** 2 <= 1:\n",
    "        return 1\n",
    "    else:\n",
    "        return 0"
   ]
  },
  {
   "cell_type": "code",
   "execution_count": 8,
   "metadata": {},
   "outputs": [
    {
     "name": "stdout",
     "output_type": "stream",
     "text": [
      "The smallest number of random draws is 1053\n",
      "The area of circle is 3.141500474833808\n"
     ]
    }
   ],
   "source": [
    "np.random.seed = 25\n",
    "N = 1\n",
    "while N > 0:\n",
    "    x_draws = np.random.uniform(-1, 1, N)\n",
    "    y_draws = np.random.uniform(-1, 1, N)\n",
    "    inside = list(map(circle, x_draws, y_draws))\n",
    "    c_area = 4 * np.mean(inside)\n",
    "    if round(c_area, 4) == 3.1415:\n",
    "        print('The smallest number of random draws is', N)\n",
    "        print('The area of circle is', c_area)\n",
    "        break\n",
    "    else:\n",
    "        N += 1"
   ]
  },
  {
   "cell_type": "code",
   "execution_count": null,
   "metadata": {},
   "outputs": [],
   "source": [
    "#4.2"
   ]
  },
  {
   "cell_type": "code",
   "execution_count": 14,
   "metadata": {},
   "outputs": [],
   "source": [
    "import numpy as np\n",
    "def isPrime(n):\n",
    "    for i in range(2, int(np.sqrt(n) + 1)):\n",
    "        if n % i == 0:\n",
    "            return False\n",
    "\n",
    "    return True\n",
    "\n",
    "def primes_ascend(N, min_val=2):\n",
    "    primes_vec = np.zeros(N, dtype=int)\n",
    "    MinIsEven = 1 - min_val % 2\n",
    "    MinIsGrtrThn2 = min_val > 2\n",
    "    curr_prime_ind = 0\n",
    "    if not MinIsGrtrThn2:\n",
    "        i = 2\n",
    "        curr_prime_ind += 1\n",
    "        primes_vec[0] = i\n",
    "    i = min(3, min_val + (MinIsEven * 1))\n",
    "    while curr_prime_ind < N:\n",
    "        if isPrime(i):\n",
    "            curr_prime_ind += 1\n",
    "            primes_vec[curr_prime_ind - 1] = i\n",
    "        i += 2\n",
    "    return primes_vec"
   ]
  },
  {
   "cell_type": "code",
   "execution_count": 18,
   "metadata": {},
   "outputs": [
    {
     "name": "stdout",
     "output_type": "stream",
     "text": [
      "The 8th element of a 5-dimentional Weyl sequence [0.3137085  0.85640646 0.88854382 0.16601049 0.53299832]\n",
      "The 8th element of a 5-dimentional Haber sequence [0.91168825 0.35382907 0.49844719 0.2470472  0.39849245]\n",
      "The 8th element of a 5-dimentional Niederreiter sequence [0.64047791 0.33223232 0.0793684  0.88632    0.75787594]\n",
      "The 8th element of a 5-dimentional Baker sequence [0.11244879 0.68429539 0.30527282 0.06526743 0.13372158]\n"
     ]
    }
   ],
   "source": [
    "def equid_seq(n, d, seq_type):\n",
    "    prime_vector = primes_ascend(d)\n",
    "    if seq_type == 'Weyl':\n",
    "        sequence = np.sqrt(prime_vector) * n\n",
    "    elif seq_type == 'Haber':\n",
    "        sequence = np.sqrt(prime_vector) * (n * (n + 1) / 2)\n",
    "    elif seq_type == 'Niederreiter':\n",
    "        sequence = [n * 2 ** (i / (n + 1)) for i in range(1, d + 1)]\n",
    "        sequence = np.array(sequence)\n",
    "    elif seq_type == 'Baker':\n",
    "        sequence = n * np.exp(prime_vector)\n",
    "    seq_nth = sequence - np.floor(sequence)\n",
    "    return seq_nth\n",
    "\n",
    "print('The 8th element of a 5-dimentional Weyl sequence', equid_seq(8, 5, 'Weyl'))\n",
    "print('The 8th element of a 5-dimentional Haber sequence', equid_seq(8, 5, 'Haber'))\n",
    "print('The 8th element of a 5-dimentional Niederreiter sequence', equid_seq(8, 5, 'Niederreiter'))\n",
    "print('The 8th element of a 5-dimentional Baker sequence', equid_seq(8, 5, 'Baker'))"
   ]
  },
  {
   "cell_type": "code",
   "execution_count": null,
   "metadata": {},
   "outputs": [],
   "source": [
    "#4.3"
   ]
  },
  {
   "cell_type": "code",
   "execution_count": 20,
   "metadata": {},
   "outputs": [],
   "source": [
    "def smallest_draw(seq_type):\n",
    "    np.random.seed = 25\n",
    "    N = 1\n",
    "    while N >= 0:\n",
    "        x_draws = [2 * equid_seq(i, 2, seq_type)[0] - 1 for i in range(N)]\n",
    "        y_draws = [2 * equid_seq(i, 2, seq_type)[1] - 1 for i in range(N)]\n",
    "        inside = list(map(circle, x_draws, y_draws))\n",
    "        c_area = 4 * np.mean(inside)\n",
    "        if round(c_area, 4) == 3.1415:\n",
    "            print('The smallest number of random draws for %s: %d' % (seq_type, N))\n",
    "            print('The area of circle is', c_area)\n",
    "            break\n",
    "        elif N > 4000:\n",
    "            print('%s not converging to 3.1415' % seq_type)\n",
    "            break\n",
    "        else:\n",
    "            N += 1"
   ]
  },
  {
   "cell_type": "code",
   "execution_count": 21,
   "metadata": {},
   "outputs": [
    {
     "name": "stdout",
     "output_type": "stream",
     "text": [
      "The smallest number of random draws for Weyl: 1230\n",
      "The area of circle is 3.1414634146341465\n"
     ]
    }
   ],
   "source": [
    "smallest_draw('Weyl')"
   ]
  },
  {
   "cell_type": "code",
   "execution_count": 22,
   "metadata": {},
   "outputs": [
    {
     "name": "stdout",
     "output_type": "stream",
     "text": [
      "The smallest number of random draws for Haber: 2064\n",
      "The area of circle is 3.141472868217054\n"
     ]
    }
   ],
   "source": [
    "smallest_draw('Haber')"
   ]
  },
  {
   "cell_type": "code",
   "execution_count": 23,
   "metadata": {},
   "outputs": [
    {
     "name": "stdout",
     "output_type": "stream",
     "text": [
      "Niederreiter not converging to 3.1415\n"
     ]
    }
   ],
   "source": [
    "smallest_draw('Niederreiter')"
   ]
  },
  {
   "cell_type": "code",
   "execution_count": 25,
   "metadata": {},
   "outputs": [
    {
     "name": "stdout",
     "output_type": "stream",
     "text": [
      "The smallest number of random draws for Baker: 1272\n",
      "The area of circle is 3.141509433962264\n"
     ]
    }
   ],
   "source": [
    "smallest_draw('Baker')"
   ]
  },
  {
   "cell_type": "code",
   "execution_count": null,
   "metadata": {},
   "outputs": [],
   "source": []
  }
 ],
 "metadata": {
  "kernelspec": {
   "display_name": "Python 3",
   "language": "python",
   "name": "python3"
  },
  "language_info": {
   "codemirror_mode": {
    "name": "ipython",
    "version": 3
   },
   "file_extension": ".py",
   "mimetype": "text/x-python",
   "name": "python",
   "nbconvert_exporter": "python",
   "pygments_lexer": "ipython3",
   "version": "3.6.4"
  }
 },
 "nbformat": 4,
 "nbformat_minor": 2
}
