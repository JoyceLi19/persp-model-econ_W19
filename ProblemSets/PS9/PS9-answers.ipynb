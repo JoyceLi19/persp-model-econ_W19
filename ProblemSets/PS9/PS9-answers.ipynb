{
 "cells": [
  {
   "cell_type": "code",
   "execution_count": 1,
   "metadata": {},
   "outputs": [],
   "source": [
    "import pandas as pd\n",
    "import numpy as np\n",
    "import sklearn\n",
    "from sklearn.linear_model import LogisticRegression\n",
    "from scipy.stats import uniform as sp_uniform\n",
    "from scipy.stats import randint as sp_randint\n",
    "from sklearn.model_selection import RandomizedSearchCV, GridSearchCV\n",
    "from sklearn.ensemble import RandomForestClassifier\n",
    "from sklearn.svm import SVC\n",
    "from sklearn.neural_network import MLPClassifier\n",
    "import matplotlib.pyplot as plt"
   ]
  },
  {
   "cell_type": "markdown",
   "metadata": {},
   "source": [
    "# Question 1"
   ]
  },
  {
   "cell_type": "markdown",
   "metadata": {},
   "source": [
    "(a)"
   ]
  },
  {
   "cell_type": "code",
   "execution_count": 2,
   "metadata": {},
   "outputs": [],
   "source": [
    "df = pd.read_csv('data/strongdrink.txt')"
   ]
  },
  {
   "cell_type": "code",
   "execution_count": 5,
   "metadata": {},
   "outputs": [
    {
     "data": {
      "image/png": "[encoded data removed]",
      "text/plain": [
       "<matplotlib.figure.Figure at 0x1a079d8668>"
      ]
     },
     "metadata": {},
     "output_type": "display_data"
    }
   ],
   "source": [
    "fig, ax = plt.subplots()\n",
    "\n",
    "for t in np.unique(df['cultivar']):\n",
    "    w = df[df['cultivar'] == t]\n",
    "    x = w['alco']\n",
    "    y = w['color_int']\n",
    "    ax.scatter(x, y, label = t)\n",
    "\n",
    "ax.legend()\n",
    "plt.show()"
   ]
  },
  {
   "cell_type": "markdown",
   "metadata": {},
   "source": [
    "(b)"
   ]
  },
  {
   "cell_type": "code",
   "execution_count": 6,
   "metadata": {},
   "outputs": [],
   "source": [
    "X = df[['alco', 'malic', 'tot_phen', 'color_int']]\n",
    "y = df['cultivar']\n",
    "logit = LogisticRegression()"
   ]
  },
  {
   "cell_type": "code",
   "execution_count": 8,
   "metadata": {},
   "outputs": [
    {
     "name": "stdout",
     "output_type": "stream",
     "text": [
      "Best Estimator1 = LogisticRegression(C=2.665871587495725, class_weight=None, dual=False,\n",
      "          fit_intercept=True, intercept_scaling=1, max_iter=100,\n",
      "          multi_class='warn', n_jobs=None, penalty='l1', random_state=None,\n",
      "          solver='warn', tol=0.0001, verbose=0, warm_start=False)\n",
      "Best Tuning Params1 = {'C': 2.665871587495725, 'penalty': 'l1'}\n",
      "Best Score1 = 0.11931818181818182\n"
     ]
    },
    {
     "name": "stderr",
     "output_type": "stream",
     "text": [
      "C:\\Users\\lenovo\\Anaconda3\\lib\\site-packages\\sklearn\\model_selection\\_search.py:841: DeprecationWarning: The default of the `iid` parameter will change from True to False in version 0.22 and will be removed in 0.24. This will change numeric results when test-set sizes are unequal.\n",
      "  DeprecationWarning)\n",
      "C:\\Users\\lenovo\\Anaconda3\\lib\\site-packages\\sklearn\\linear_model\\logistic.py:433: FutureWarning: Default solver will be changed to 'lbfgs' in 0.22. Specify a solver to silence this warning.\n",
      "  FutureWarning)\n",
      "C:\\Users\\lenovo\\Anaconda3\\lib\\site-packages\\sklearn\\linear_model\\logistic.py:460: FutureWarning: Default multi_class will be changed to 'auto' in 0.22. Specify the multi_class option to silence this warning.\n",
      "  \"this warning.\", FutureWarning)\n",
      "C:\\Users\\lenovo\\Anaconda3\\lib\\site-packages\\sklearn\\svm\\base.py:931: ConvergenceWarning: Liblinear failed to converge, increase the number of iterations.\n",
      "  \"the number of iterations.\", ConvergenceWarning)\n"
     ]
    }
   ],
   "source": [
    "param_dist1 = {'penalty': ['l1', 'l2'], 'C': sp_uniform(0.1, 10.0)}\n",
    "\n",
    "random_search1 = RandomizedSearchCV(logit, param_distributions = param_dist1,\n",
    "                                    n_iter = 200, n_jobs = -1, cv = 5, random_state = 25,\n",
    "                                    scoring = 'neg_mean_squared_error')\n",
    "\n",
    "random_search1.fit(X, y)\n",
    "print('Best Estimator1 =', random_search1.best_estimator_)\n",
    "print('Best Tuning Params1 =', random_search1.best_params_)\n",
    "print('Best Score1 =', -random_search1.best_score_)"
   ]
  },
  {
   "cell_type": "markdown",
   "metadata": {},
   "source": [
    "(c)"
   ]
  },
  {
   "cell_type": "code",
   "execution_count": 9,
   "metadata": {},
   "outputs": [
    {
     "name": "stderr",
     "output_type": "stream",
     "text": [
      "C:\\Users\\lenovo\\Anaconda3\\lib\\site-packages\\sklearn\\model_selection\\_search.py:841: DeprecationWarning: The default of the `iid` parameter will change from True to False in version 0.22 and will be removed in 0.24. This will change numeric results when test-set sizes are unequal.\n",
      "  DeprecationWarning)\n"
     ]
    },
    {
     "name": "stdout",
     "output_type": "stream",
     "text": [
      "Best Estimator2 = RandomForestClassifier(bootstrap=True, class_weight=None, criterion='gini',\n",
      "            max_depth=3, max_features=1, max_leaf_nodes=None,\n",
      "            min_impurity_decrease=0.0, min_impurity_split=None,\n",
      "            min_samples_leaf=13, min_samples_split=18,\n",
      "            min_weight_fraction_leaf=0.0, n_estimators=176, n_jobs=None,\n",
      "            oob_score=True, random_state=25, verbose=0, warm_start=False)\n",
      "Best Tuning Params2 = {'max_depth': 3, 'max_features': 1, 'min_samples_leaf': 13, 'min_samples_split': 18, 'n_estimators': 176}\n",
      "Best Score2 = 0.13068181818181818\n"
     ]
    }
   ],
   "source": [
    "param_dist2 = {'n_estimators': sp_randint(10, 200),\n",
    "               'max_depth': sp_randint(2, 4),\n",
    "               'min_samples_split': sp_randint(2, 20),\n",
    "               'min_samples_leaf': sp_randint(2, 20),\n",
    "               'max_features': sp_randint(1, 4)}\n",
    "\n",
    "tree = RandomForestClassifier(bootstrap = True, oob_score = True, random_state = 25)\n",
    "\n",
    "random_search2 = RandomizedSearchCV(tree, param_distributions = param_dist2,\n",
    "                                    n_iter = 200, n_jobs = -1, cv = 5, random_state = 25,\n",
    "                                    scoring = 'neg_mean_squared_error')\n",
    "\n",
    "random_search2.fit(X, y)\n",
    "print('Best Estimator2 =', random_search2.best_estimator_)\n",
    "print('Best Tuning Params2 =', random_search2.best_params_)\n",
    "print('Best Score2 =', -random_search2.best_score_)"
   ]
  },
  {
   "cell_type": "markdown",
   "metadata": {},
   "source": [
    "(d)"
   ]
  },
  {
   "cell_type": "code",
   "execution_count": 10,
   "metadata": {},
   "outputs": [
    {
     "name": "stdout",
     "output_type": "stream",
     "text": [
      "Best Estimator3 = SVC(C=3.3605112613782553, cache_size=200, class_weight=None, coef0=0.0,\n",
      "  decision_function_shape='ovr', degree=3, gamma='scale', kernel='rbf',\n",
      "  max_iter=-1, probability=False, random_state=None, shrinking=True,\n",
      "  tol=0.001, verbose=False)\n",
      "Best Tuning Params3 = {'C': 3.3605112613782553, 'gamma': 'scale', 'shrinking': True}\n",
      "Best Score3 = 0.14772727272727273\n"
     ]
    },
    {
     "name": "stderr",
     "output_type": "stream",
     "text": [
      "C:\\Users\\lenovo\\Anaconda3\\lib\\site-packages\\sklearn\\model_selection\\_search.py:841: DeprecationWarning: The default of the `iid` parameter will change from True to False in version 0.22 and will be removed in 0.24. This will change numeric results when test-set sizes are unequal.\n",
      "  DeprecationWarning)\n"
     ]
    }
   ],
   "source": [
    "param_dist3 = {'C': sp_uniform(loc = 0.1, scale = 10.0),\n",
    "               'gamma': ['scale', 'auto'],\n",
    "               'shrinking': [True, False]}\n",
    "\n",
    "svc = SVC(kernel = 'rbf')\n",
    "\n",
    "random_search3 = RandomizedSearchCV(svc, param_distributions = param_dist3,\n",
    "                                    n_iter = 200, n_jobs = -1, cv = 5, random_state = 25,\n",
    "                                    scoring = 'neg_mean_squared_error')\n",
    "\n",
    "random_search3.fit(X, y)\n",
    "print('Best Estimator3 =', random_search3.best_estimator_)\n",
    "print('Best Tuning Params3 =', random_search3.best_params_)\n",
    "print('Best Score3 =', -random_search3.best_score_)"
   ]
  },
  {
   "cell_type": "markdown",
   "metadata": {},
   "source": [
    "(e)"
   ]
  },
  {
   "cell_type": "code",
   "execution_count": 11,
   "metadata": {},
   "outputs": [
    {
     "name": "stderr",
     "output_type": "stream",
     "text": [
      "C:\\Users\\lenovo\\Anaconda3\\lib\\site-packages\\sklearn\\model_selection\\_search.py:841: DeprecationWarning: The default of the `iid` parameter will change from True to False in version 0.22 and will be removed in 0.24. This will change numeric results when test-set sizes are unequal.\n",
      "  DeprecationWarning)\n"
     ]
    },
    {
     "name": "stdout",
     "output_type": "stream",
     "text": [
      "Best Estimator4 = MLPClassifier(activation='relu', alpha=0.47362547312722036, batch_size='auto',\n",
      "       beta_1=0.9, beta_2=0.999, early_stopping=False, epsilon=1e-08,\n",
      "       hidden_layer_sizes=57, learning_rate='constant',\n",
      "       learning_rate_init=0.001, max_iter=200, momentum=0.9,\n",
      "       n_iter_no_change=10, nesterovs_momentum=True, power_t=0.5,\n",
      "       random_state=None, shuffle=True, solver='lbfgs', tol=0.0001,\n",
      "       validation_fraction=0.1, verbose=False, warm_start=False)\n",
      "Best Tuning Params4 = {'activation': 'relu', 'alpha': 0.47362547312722036, 'hidden_layer_sizes': 57}\n",
      "Best Score4 = 0.06818181818181818\n"
     ]
    }
   ],
   "source": [
    "param_dist4 = {'hidden_layer_sizes': sp_randint(1, 100),\n",
    "               'activation': ['logistic', 'relu'],\n",
    "               'alpha': sp_uniform(0.1, 10.0)}\n",
    "\n",
    "clf_mlp = MLPClassifier(activation = 'tanh', solver = 'lbfgs', alpha = 0.1)\n",
    "\n",
    "random_search4 = RandomizedSearchCV(clf_mlp, param_distributions = param_dist4,\n",
    "                                    n_iter = 200, n_jobs = -1, cv = 5, random_state = 25,\n",
    "                                    scoring = 'neg_mean_squared_error')\n",
    "\n",
    "random_search4.fit(X, y)\n",
    "print('Best Estimator4 =', random_search4.best_estimator_)\n",
    "print('Best Tuning Params4 =', random_search4.best_params_)\n",
    "print('Best Score4 =', -random_search4.best_score_)"
   ]
  },
  {
   "cell_type": "markdown",
   "metadata": {},
   "source": [
    "(f)"
   ]
  },
  {
   "cell_type": "markdown",
   "metadata": {},
   "source": [
    "The multiple layer perceptron model (MLPClassifier) is the best predictor of cultivar because it has the lowest MSE among all the models."
   ]
  },
  {
   "cell_type": "code",
   "execution_count": null,
   "metadata": {},
   "outputs": [],
   "source": []
  }
 ],
 "metadata": {
  "kernelspec": {
   "display_name": "Python 3",
   "language": "python",
   "name": "python3"
  },
  "language_info": {
   "codemirror_mode": {
    "name": "ipython",
    "version": 3
   },
   "file_extension": ".py",
   "mimetype": "text/x-python",
   "name": "python",
   "nbconvert_exporter": "python",
   "pygments_lexer": "ipython3",
   "version": "3.6.4"
  }
 },
 "nbformat": 4,
 "nbformat_minor": 2
}
