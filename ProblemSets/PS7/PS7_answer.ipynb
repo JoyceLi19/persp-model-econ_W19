{
 "cells": [
  {
   "cell_type": "markdown",
   "metadata": {},
   "source": [
    "Problem 1"
   ]
  },
  {
   "cell_type": "markdown",
   "metadata": {},
   "source": [
    "(a)"
   ]
  },
  {
   "cell_type": "code",
   "execution_count": 13,
   "metadata": {},
   "outputs": [],
   "source": [
    "import sklearn\n",
    "from sklearn.linear_model import LogisticRegression\n",
    "from sklearn.model_selection import train_test_split, LeaveOneOut, KFold\n",
    "from sklearn.metrics import classification_report\n",
    "import numpy as np\n",
    "import pandas as pd\n",
    "import matplotlib.pyplot as plt\n",
    "import statsmodels.api as sm\n",
    "from scipy.interpolate import LSQUnivariateSpline\n",
    "import warnings\n",
    "warnings.filterwarnings('ignore')"
   ]
  },
  {
   "cell_type": "code",
   "execution_count": 2,
   "metadata": {},
   "outputs": [],
   "source": [
    "df_w = pd.read_csv('data/strongdrink.txt')\n",
    "X = df_w[['alco', 'malic', 'tot_phen', 'color_int']]\n",
    "y = df_w['cultivar']\n",
    "X_train, X_test, y_train, y_test = train_test_split(X, y, test_size = 0.25, random_state = 20)\n",
    "logit = LogisticRegression(random_state = 20, solver = 'lbfgs', \n",
    "                           multi_class = 'multinomial').fit(X_train, y_train)"
   ]
  },
  {
   "cell_type": "code",
   "execution_count": 3,
   "metadata": {},
   "outputs": [
    {
     "data": {
      "text/html": [
       "<div>\n",
       "<style scoped>\n",
       "    .dataframe tbody tr th:only-of-type {\n",
       "        vertical-align: middle;\n",
       "    }\n",
       "\n",
       "    .dataframe tbody tr th {\n",
       "        vertical-align: top;\n",
       "    }\n",
       "\n",
       "    .dataframe thead th {\n",
       "        text-align: right;\n",
       "    }\n",
       "</style>\n",
       "<table border=\"1\" class=\"dataframe\">\n",
       "  <thead>\n",
       "    <tr style=\"text-align: right;\">\n",
       "      <th></th>\n",
       "      <th>j = 1</th>\n",
       "      <th>j = 2</th>\n",
       "    </tr>\n",
       "  </thead>\n",
       "  <tbody>\n",
       "    <tr>\n",
       "      <th>intercept</th>\n",
       "      <td>-24.027615</td>\n",
       "      <td>22.780731</td>\n",
       "    </tr>\n",
       "    <tr>\n",
       "      <th>b1</th>\n",
       "      <td>1.701734</td>\n",
       "      <td>-1.466297</td>\n",
       "    </tr>\n",
       "    <tr>\n",
       "      <th>b2</th>\n",
       "      <td>-0.265787</td>\n",
       "      <td>-0.332951</td>\n",
       "    </tr>\n",
       "    <tr>\n",
       "      <th>b3</th>\n",
       "      <td>1.224101</td>\n",
       "      <td>0.663556</td>\n",
       "    </tr>\n",
       "    <tr>\n",
       "      <th>b4</th>\n",
       "      <td>0.022507</td>\n",
       "      <td>-0.922682</td>\n",
       "    </tr>\n",
       "  </tbody>\n",
       "</table>\n",
       "</div>"
      ],
      "text/plain": [
       "               j = 1      j = 2\n",
       "intercept -24.027615  22.780731\n",
       "b1          1.701734  -1.466297\n",
       "b2         -0.265787  -0.332951\n",
       "b3          1.224101   0.663556\n",
       "b4          0.022507  -0.922682"
      ]
     },
     "execution_count": 3,
     "metadata": {},
     "output_type": "execute_result"
    }
   ],
   "source": [
    "j1 = [logit.intercept_[0]] + logit.coef_[0].tolist()\n",
    "j2 = [logit.intercept_[1]] + logit.coef_[1].tolist()\n",
    "results = pd.DataFrame(data = {'j = 1':j1, 'j = 2':j2}, \n",
    "                       index = ['intercept', 'b1', 'b2', 'b3', 'b4'])\n",
    "results"
   ]
  },
  {
   "cell_type": "code",
   "execution_count": 4,
   "metadata": {},
   "outputs": [
    {
     "name": "stdout",
     "output_type": "stream",
     "text": [
      "             precision    recall  f1-score   support\n",
      "\n",
      "          1       0.87      1.00      0.93        13\n",
      "          2       1.00      0.90      0.95        21\n",
      "          3       1.00      1.00      1.00        10\n",
      "\n",
      "avg / total       0.96      0.95      0.96        44\n",
      "\n"
     ]
    }
   ],
   "source": [
    "y_pred = logit.predict(X_test)\n",
    "print(classification_report(y_test, y_pred))"
   ]
  },
  {
   "cell_type": "markdown",
   "metadata": {},
   "source": [
    "The error rates for category 1, 2, and 3 are 0.13, 0.0, and 0.0"
   ]
  },
  {
   "cell_type": "markdown",
   "metadata": {},
   "source": [
    "The 3rd category is the model best at predicting, because it has the highest f1-score. "
   ]
  },
  {
   "cell_type": "markdown",
   "metadata": {},
   "source": [
    "The most accurately predicted category is not the one with the most observations. The 2nd category is the one with the most observations."
   ]
  },
  {
   "cell_type": "code",
   "execution_count": 6,
   "metadata": {},
   "outputs": [
    {
     "name": "stdout",
     "output_type": "stream",
     "text": [
      "MSE =  0.045454545454545456\n"
     ]
    }
   ],
   "source": [
    "MSE = ((y_test - y_pred) ** 2).sum() / y_pred.shape[0]\n",
    "print('MSE = ', MSE)"
   ]
  },
  {
   "cell_type": "markdown",
   "metadata": {},
   "source": [
    "(b)"
   ]
  },
  {
   "cell_type": "code",
   "execution_count": 8,
   "metadata": {},
   "outputs": [
    {
     "name": "stdout",
     "output_type": "stream",
     "text": [
      "Test estimate MSE LOOCV = 0.07954545454545454\n",
      "Test estimate MSE standard error = 0.2705882022679695\n"
     ]
    }
   ],
   "source": [
    "Xvars = X.values\n",
    "yvars = y.values\n",
    "N_loo = Xvars.shape[0]\n",
    "loo = LeaveOneOut()\n",
    "loo.get_n_splits(Xvars)\n",
    "MSE_vec = np.zeros(N_loo)\n",
    "yt = np.zeros(N_loo)\n",
    "yp = np.zeros(N_loo)\n",
    "\n",
    "for train_index, test_index in loo.split(Xvars):\n",
    "    X_train, X_test = Xvars[train_index], Xvars[test_index]\n",
    "    y_train, y_test = yvars[train_index], yvars[test_index]\n",
    "    LogReg = LogisticRegression(random_state = 20, solver = 'lbfgs', \n",
    "                                multi_class = 'multinomial')\n",
    "    LogReg.fit(X_train, y_train)\n",
    "    y_pred = LogReg.predict(X_test)\n",
    "    yt[test_index] = y_test\n",
    "    yp[test_index] = y_pred\n",
    "    if y_test == y_pred:\n",
    "        MSE_vec[test_index] = 0\n",
    "    else:\n",
    "        MSE_vec[test_index] = 1\n",
    "\n",
    "MSE_loo = MSE_vec.mean()\n",
    "MSE_loo_std = MSE_vec.std()\n",
    "print('Test estimate MSE LOOCV =', MSE_loo)\n",
    "print('Test estimate MSE standard error =', MSE_loo_std)"
   ]
  },
  {
   "cell_type": "code",
   "execution_count": 9,
   "metadata": {},
   "outputs": [
    {
     "name": "stdout",
     "output_type": "stream",
     "text": [
      "             precision    recall  f1-score   support\n",
      "\n",
      "        1.0       0.90      0.93      0.92        59\n",
      "        2.0       0.91      0.90      0.91        71\n",
      "        3.0       0.96      0.93      0.95        46\n",
      "\n",
      "avg / total       0.92      0.92      0.92       176\n",
      "\n"
     ]
    }
   ],
   "source": [
    "print(classification_report(yt, yp))"
   ]
  },
  {
   "cell_type": "markdown",
   "metadata": {},
   "source": [
    "The error rate for the 1st category decreases, while that for the 2nd and 3rd category increases."
   ]
  },
  {
   "cell_type": "markdown",
   "metadata": {},
   "source": [
    "(c)"
   ]
  },
  {
   "cell_type": "code",
   "execution_count": 11,
   "metadata": {},
   "outputs": [
    {
     "name": "stdout",
     "output_type": "stream",
     "text": [
      "Test estimate MSE k-fold = 0.08522727272727273\n",
      "Test estimate MSE standard error = 0.02476647127011746\n"
     ]
    }
   ],
   "source": [
    "k = 4\n",
    "kf = KFold(n_splits = k, random_state = 20, shuffle = True)\n",
    "kf.get_n_splits(Xvars)\n",
    "\n",
    "MSE_vec_kf = np.zeros(k)\n",
    "yt = np.zeros(N_loo)\n",
    "yp = np.zeros(N_loo)\n",
    "k_ind = int(0)\n",
    "\n",
    "for train_index, test_index in kf.split(Xvars):\n",
    "    X_train, X_test = Xvars[train_index], Xvars[test_index]\n",
    "    y_train, y_test = yvars[train_index], yvars[test_index]\n",
    "    LogReg = LogisticRegression(random_state = 20, solver = 'lbfgs', \n",
    "                                multi_class = 'multinomial')\n",
    "    LogReg.fit(X_train, y_train)\n",
    "    y_pred = LogReg.predict(X_test)\n",
    "    yt[test_index] = y_test\n",
    "    yp[test_index] = y_pred\n",
    "    \n",
    "    mse = []\n",
    "    for i in range(len(y_test)):\n",
    "        if y_test[i] == y_pred[i]:\n",
    "            mse.append(0)\n",
    "        else:\n",
    "            mse.append(1)\n",
    "    MSE_vec_kf[k_ind] = np.array(mse).mean()\n",
    "    k_ind += 1\n",
    "    \n",
    "MSE_vec_kf = np.array(MSE_vec_kf)\n",
    "MSE_kf = MSE_vec_kf.mean()\n",
    "MSE_kf_std = MSE_vec_kf.std()\n",
    "print('Test estimate MSE k-fold =', MSE_kf)\n",
    "print('Test estimate MSE standard error =', MSE_kf_std)"
   ]
  },
  {
   "cell_type": "code",
   "execution_count": 12,
   "metadata": {},
   "outputs": [
    {
     "name": "stdout",
     "output_type": "stream",
     "text": [
      "             precision    recall  f1-score   support\n",
      "\n",
      "        1.0       0.90      0.92      0.91        59\n",
      "        2.0       0.90      0.90      0.90        71\n",
      "        3.0       0.96      0.93      0.95        46\n",
      "\n",
      "avg / total       0.92      0.91      0.91       176\n",
      "\n"
     ]
    }
   ],
   "source": [
    "print(classification_report(yt, yp))"
   ]
  },
  {
   "cell_type": "markdown",
   "metadata": {},
   "source": [
    "The error rate of the 1st category is the same as that of part(b) and lower than that of part(a).\n",
    "The error rate of the 2nd category is higher than both part(a) and part(b).\n",
    "The error rate of the 3rd category is the same as that of part(b) and higher than that of part(a)."
   ]
  },
  {
   "cell_type": "markdown",
   "metadata": {},
   "source": [
    "Problem 2"
   ]
  },
  {
   "cell_type": "markdown",
   "metadata": {},
   "source": [
    "(a)"
   ]
  },
  {
   "cell_type": "code",
   "execution_count": 14,
   "metadata": {},
   "outputs": [],
   "source": [
    "df_c = pd.read_csv('data/CoolIndex.txt', names = ['age', 'coolness'])"
   ]
  },
  {
   "cell_type": "code",
   "execution_count": 16,
   "metadata": {},
   "outputs": [
    {
     "data": {
      "text/plain": [
       "Text(0.5,1,'Coolness Index Change with Age')"
      ]
     },
     "execution_count": 16,
     "metadata": {},
     "output_type": "execute_result"
    },
    {
     "data": {
      "image/png": "[encoded data removed]",
      "text/plain": [
       "<matplotlib.figure.Figure at 0x46e0cc4b38>"
      ]
     },
     "metadata": {},
     "output_type": "display_data"
    }
   ],
   "source": [
    "plt.scatter(df_c['age'], df_c['coolness'])\n",
    "plt.xlabel('Age')\n",
    "plt.ylabel('Coolness Index')\n",
    "plt.title('Coolness Index Change with Age')"
   ]
  },
  {
   "cell_type": "markdown",
   "metadata": {},
   "source": [
    "(b)"
   ]
  },
  {
   "cell_type": "code",
   "execution_count": 20,
   "metadata": {},
   "outputs": [],
   "source": [
    "df_c[\"bin1\"]=np.where((df_c.age>=11) & (df_c.age<22),1,0)\n",
    "df_c[\"bin2\"]=np.where((df_c.age>=22) & (df_c.age<40),1,0)\n",
    "df_c[\"bin3\"]=np.where((df_c.age>=40) & (df_c.age<59),1,0)\n",
    "df_c[\"bin4\"]=np.where((df_c.age>=59) & (df_c.age<77),1,0)\n",
    "df_c[\"bin5\"]=np.where((df_c.age>=77) & (df_c.age<=95),1,0)"
   ]
  },
  {
   "cell_type": "code",
   "execution_count": 21,
   "metadata": {},
   "outputs": [
    {
     "name": "stdout",
     "output_type": "stream",
     "text": [
      "                            OLS Regression Results                            \n",
      "==============================================================================\n",
      "Dep. Variable:               coolness   R-squared:                       0.429\n",
      "Model:                            OLS   Adj. R-squared:                  0.427\n",
      "Method:                 Least Squares   F-statistic:                     178.7\n",
      "Date:                Wed, 27 Feb 2019   Prob (F-statistic):          3.73e-114\n",
      "Time:                        11:28:49   Log-Likelihood:                -3214.5\n",
      "No. Observations:                 956   AIC:                             6439.\n",
      "Df Residuals:                     951   BIC:                             6463.\n",
      "Df Model:                           4                                         \n",
      "Covariance Type:            nonrobust                                         \n",
      "==============================================================================\n",
      "                 coef    std err          t      P>|t|      [0.025      0.975]\n",
      "------------------------------------------------------------------------------\n",
      "bin1          20.1025      0.562     35.746      0.000      18.999      21.206\n",
      "bin2          34.4758      0.431     80.006      0.000      33.630      35.321\n",
      "bin3          37.6351      0.424     88.814      0.000      36.804      38.467\n",
      "bin4          35.2254      0.485     72.560      0.000      34.273      36.178\n",
      "bin5          27.2964      0.936     29.175      0.000      25.460      29.132\n",
      "==============================================================================\n",
      "Omnibus:                       80.102   Durbin-Watson:                   1.236\n",
      "Prob(Omnibus):                  0.000   Jarque-Bera (JB):              101.718\n",
      "Skew:                           0.714   Prob(JB):                     8.17e-23\n",
      "Kurtosis:                       3.719   Cond. No.                         2.21\n",
      "==============================================================================\n",
      "\n",
      "Warnings:\n",
      "[1] Standard Errors assume that the covariance matrix of the errors is correctly specified.\n"
     ]
    }
   ],
   "source": [
    "x = df_c[['bin1', 'bin2', 'bin3', 'bin4', 'bin5']]\n",
    "y = df_c['coolness']\n",
    "reg = sm.OLS(y, x).fit()\n",
    "print(reg.summary())"
   ]
  },
  {
   "cell_type": "markdown",
   "metadata": {},
   "source": [
    " beta1 = 20.10, beta2 = 34.48, beta3 = 37.64, beta4 = 35.23, beta5 = 27.30"
   ]
  },
  {
   "cell_type": "code",
   "execution_count": 22,
   "metadata": {},
   "outputs": [
    {
     "data": {
      "image/png": "[encoded data removed]",
      "text/plain": [
       "<matplotlib.figure.Figure at 0x46e1270208>"
      ]
     },
     "metadata": {},
     "output_type": "display_data"
    }
   ],
   "source": [
    "plt.scatter(df_c['age'], df_c['coolness'])\n",
    "plt.plot(df_c['age'], reg.predict(), color = 'r', label = 'Stepwise')\n",
    "plt.legend()\n",
    "plt.xlabel('Age')\n",
    "plt.ylabel('Coolness Index')\n",
    "plt.title('Coolness Index Change with Age')\n",
    "plt.show()"
   ]
  },
  {
   "cell_type": "code",
   "execution_count": 23,
   "metadata": {},
   "outputs": [
    {
     "data": {
      "text/plain": [
       "array([35.22540004])"
      ]
     },
     "execution_count": 23,
     "metadata": {},
     "output_type": "execute_result"
    }
   ],
   "source": [
    "reg.predict([0, 0, 0, 1, 0])"
   ]
  },
  {
   "cell_type": "markdown",
   "metadata": {},
   "source": [
    "The predicted coolness of a 73-year old from the stepwise function is 35.23."
   ]
  },
  {
   "cell_type": "markdown",
   "metadata": {},
   "source": [
    "(c)"
   ]
  },
  {
   "cell_type": "code",
   "execution_count": 26,
   "metadata": {},
   "outputs": [],
   "source": [
    "df_c2 = df_c.groupby('age').mean()\n",
    "df_c2 = df_c2.reset_index()\n",
    "lin_spline = LSQUnivariateSpline(np.array(df_c2['age']), np.array(df_c2['coolness']),\n",
    "                   t = [22, 40, 59, 77], k = 1)"
   ]
  },
  {
   "cell_type": "code",
   "execution_count": 27,
   "metadata": {},
   "outputs": [
    {
     "data": {
      "image/png": "[encoded data removed]",
      "text/plain": [
       "<matplotlib.figure.Figure at 0x46e1315588>"
      ]
     },
     "metadata": {},
     "output_type": "display_data"
    }
   ],
   "source": [
    "plt.scatter(df_c['age'], df_c['coolness'])\n",
    "plt.plot(df_c['age'], reg.predict(), color = 'r', label = 'Stepwise')\n",
    "plt.plot(df_c2['age'], lin_spline(df_c2['age']), color = 'y', label = 'Linear Spline')\n",
    "plt.legend()\n",
    "plt.xlabel('Age')\n",
    "plt.ylabel('Coolness Index')\n",
    "plt.title('Coolness Index Change with Age')\n",
    "plt.show()"
   ]
  },
  {
   "cell_type": "code",
   "execution_count": 28,
   "metadata": {},
   "outputs": [
    {
     "data": {
      "text/plain": [
       "array(32.86784862)"
      ]
     },
     "execution_count": 28,
     "metadata": {},
     "output_type": "execute_result"
    }
   ],
   "source": [
    "lin_spline(73)"
   ]
  },
  {
   "cell_type": "markdown",
   "metadata": {},
   "source": [
    "The predicted coolness of a 73-year old from the linear spline is 32.87."
   ]
  },
  {
   "cell_type": "markdown",
   "metadata": {},
   "source": [
    "(d)"
   ]
  },
  {
   "cell_type": "code",
   "execution_count": 30,
   "metadata": {},
   "outputs": [],
   "source": [
    "cubic_spline = LSQUnivariateSpline(np.array(df_c2['age']), np.array(df_c2['coolness']),\n",
    "                   t = [22, 40, 59, 77], k = 3)"
   ]
  },
  {
   "cell_type": "code",
   "execution_count": 31,
   "metadata": {},
   "outputs": [
    {
     "data": {
      "image/png": "[encoded data removed]",
      "text/plain": [
       "<matplotlib.figure.Figure at 0x46e13154a8>"
      ]
     },
     "metadata": {},
     "output_type": "display_data"
    }
   ],
   "source": [
    "plt.scatter(df_c['age'], df_c['coolness'])\n",
    "plt.plot(df_c['age'], reg.predict(), color = 'r', label = 'Stepwise')\n",
    "plt.plot(df_c2['age'], lin_spline(df_c2['age']), color = 'y', label = 'Linear Spline')\n",
    "plt.plot(df_c2['age'], cubic_spline(df_c2['age']), color = 'k', label = 'Cubic Spline')\n",
    "plt.legend()\n",
    "plt.xlabel('Age')\n",
    "plt.ylabel('Coolness Index')\n",
    "plt.title('Coolness Index Change with Age')\n",
    "plt.show()"
   ]
  },
  {
   "cell_type": "code",
   "execution_count": 32,
   "metadata": {},
   "outputs": [
    {
     "data": {
      "text/plain": [
       "array(32.64230107)"
      ]
     },
     "execution_count": 32,
     "metadata": {},
     "output_type": "execute_result"
    }
   ],
   "source": [
    "cubic_spline(73)"
   ]
  },
  {
   "cell_type": "markdown",
   "metadata": {},
   "source": [
    "The predicted coolness of a 73-year old from the cubic spline is 32.64."
   ]
  },
  {
   "cell_type": "code",
   "execution_count": null,
   "metadata": {},
   "outputs": [],
   "source": []
  }
 ],
 "metadata": {
  "kernelspec": {
   "display_name": "Python 3",
   "language": "python",
   "name": "python3"
  },
  "language_info": {
   "codemirror_mode": {
    "name": "ipython",
    "version": 3
   },
   "file_extension": ".py",
   "mimetype": "text/x-python",
   "name": "python",
   "nbconvert_exporter": "python",
   "pygments_lexer": "ipython3",
   "version": "3.6.4"
  }
 },
 "nbformat": 4,
 "nbformat_minor": 2
}
